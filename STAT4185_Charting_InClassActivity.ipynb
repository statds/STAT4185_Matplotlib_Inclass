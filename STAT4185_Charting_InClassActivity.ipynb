{
 "cells": [
  {
   "cell_type": "markdown",
   "metadata": {
    "id": "AHaplIGmCEvk"
   },
   "source": [
    "STAT 4185: Advanced Data Manipulation & Analysis with Python\n",
    "\n",
    "# Week 6: Charting with Matplotlib and Seaborn In-Class Activity"
   ]
  },
  {
   "cell_type": "markdown",
   "metadata": {
    "id": "GnFxme4auxNf"
   },
   "source": [
    "## Part 1: Setup (~5 minutes)\n",
    "Import necessary libraries and the dataset."
   ]
  },
  {
   "cell_type": "code",
   "execution_count": null,
   "metadata": {
    "id": "NvAFL1vxBYi4"
   },
   "outputs": [],
   "source": [
    "import numpy as np\n",
    "import matplotlib.pyplot as plt\n",
    "import pandas as pd\n",
    "import seaborn as sns"
   ]
  },
  {
   "cell_type": "code",
   "execution_count": null,
   "metadata": {
    "colab": {
     "base_uri": "https://localhost:8080/",
     "height": 421
    },
    "id": "oBEz4TNNKfRS",
    "outputId": "f595e0b0-f783-4d81-f98f-5e4db35e0dab"
   },
   "outputs": [],
   "source": [
    "df = pd.read_csv('colleges_dataset_cleaned.csv', index_col=0)\n",
    "df.head()"
   ]
  },
  {
   "cell_type": "code",
   "execution_count": null,
   "metadata": {
    "colab": {
     "base_uri": "https://localhost:8080/"
    },
    "id": "0avoTluRZSNe",
    "outputId": "9c5bf494-050c-49f3-ca74-73ee4f00bd76"
   },
   "outputs": [],
   "source": [
    "df.columns"
   ]
  },
  {
   "cell_type": "markdown",
   "metadata": {
    "id": "Z2RPtkqMu-1o"
   },
   "source": [
    "## Part 2: Guided Examples (~30 minutes)"
   ]
  },
  {
   "cell_type": "markdown",
   "metadata": {
    "id": "N1RNzhs2vE9L"
   },
   "source": [
    "### Scatter plots"
   ]
  },
  {
   "cell_type": "code",
   "execution_count": null,
   "metadata": {
    "colab": {
     "base_uri": "https://localhost:8080/",
     "height": 1000
    },
    "id": "9GXywZFQLTiJ",
    "outputId": "13f9de9f-c375-4b22-a912-8f5cde66efe2"
   },
   "outputs": [],
   "source": [
    "# Scatter plots\n",
    "\n",
    "x = df['acceptance_rate']\n",
    "y = df['overall_score']\n",
    "a, b = np.polyfit(x, y, 1)\n",
    "# Find line of best fit.\n",
    "\n",
    "plt.figure(figsize=(10,10))\n",
    "# This is useful for resizing the image size of the graph if you need it.\n",
    "\n",
    "plt.scatter(x,y)\n",
    "plt.plot(x, a*x+b, color='r')\n",
    "# Plot data and line of best fit\n",
    "\n",
    "plt.title('Acceptance Rate vs. College Score')\n",
    "plt.xlabel('Acceptance Rate')\n",
    "plt.ylabel('College Score')\n",
    "plt.show()\n",
    "# There appears to be a negative correlation, indicating that \"better\" colleges may tend to have lower acceptance rates.\n",
    "\n",
    "\n",
    "# Let's repeat this for all appropriate fields to put in a scatter plot against college score.\n",
    "relCols = ['Est_full_price_22_23', 'Est_price_with_avg_grant', 'percent_of_student_who_get_grants', 'graduation_rate', 'early_career_earnings', 'avg_price_for_low_income_students', \n",
    "           'undergrad_enrollment', 'percent_of_students_with_need_who_get_grants', 'percent_of_need_met', 'percent_of_students_who_get_merit_grants', 'avg_merit_grant', \n",
    "           'avg_time_to_a_degree_years', 'median_student_debt', 'percent_earning_more_than_a_high_school_grad', 'median_sat', 'median_act']\n",
    "colDict = {'college_names':'College Name', 'overall_score':'College Score', 'acceptance_rate':'Acceptance Rate', 'Est_full_price_22_23':'Full Price of Attendance 2022-2023', \n",
    "           'Est_price_with_avg_grant':'Estimated Average Price After Grants', 'percent_of_student_who_get_grants':'Percent of Students with Grants', 'graduation_rate':'Graduate Rate',\n",
    "           'early_career_earnings':'Average Early Career Earnings', 'avg_price_for_low_income_students':'Average Price for Low-Income Students', 'sat_act_required':'ACT/SAT Required', \n",
    "           'undergrad_enrollment':'Undergraduate Enrollment Size', 'percent_of_students_with_need_who_get_grants':'Percent of Students with Need that Receive Grants', \n",
    "           'percent_of_need_met':'Percent of Need Met', 'percent_of_students_who_get_merit_grants':'Percent of Students who Get Merit Grants', 'avg_merit_grant':'Average Merit Grant', \n",
    "           'avg_time_to_a_degree_years':'Average Time to Earn Degree (Years)', 'median_student_debt':'Median Student debt', \n",
    "           'percent_earning_more_than_a_high_school_grad':'Percentage of Students who Earn More than a Typical High School Student', 'Town':'Town', 'State':'State', 'median_sat':'Median SAT', 'median_act':'Median ACT'}\n",
    "\n",
    "for colName in relCols:\n",
    "  x = df[colName]\n",
    "  a, b = np.polyfit(x, y, 1)\n",
    "  plt.figure(figsize=(10,10))\n",
    "  plt.scatter(x,y)\n",
    "  plt.plot(x, a*x+b, color='r')\n",
    "  plt.title((colDict[colName] + ' vs. College Score'))\n",
    "  plt.xlabel(colDict[colName])\n",
    "  plt.ylabel('College Score')\n",
    "  plt.show()\n",
    "\n",
    "# Take some time to interpret these graphs. Clearly explain one example from each category: no/little correlation, strong positive correlation, strong negative correlation."
   ]
  },
  {
   "cell_type": "markdown",
   "metadata": {
    "id": "sTRc7Ae9vK4D"
   },
   "source": [
    "### Histograms"
   ]
  },
  {
   "cell_type": "code",
   "execution_count": null,
   "metadata": {
    "colab": {
     "base_uri": "https://localhost:8080/",
     "height": 1000
    },
    "id": "se_RFXGhMaOU",
    "outputId": "ecf21d38-ac6d-46a5-f1d3-227dd0be74d6"
   },
   "outputs": [],
   "source": [
    "# Histograms\n",
    "\n",
    "plt.hist(df['overall_score'], bins=50)\n",
    "plt.title(\"College Scores Histogram\")\n",
    "plt.xlabel('College Score')\n",
    "plt.ylabel('Frequency')\n",
    "plt.show()\n",
    "# We can use this to check for biases in the assignment of overall scores to colleges.\n",
    "# Just by eyeballing the data, it appears to be a roughly normal distribution around 63\n",
    "# It may be skewed slightly left, indicating that the algorithm tends to give higher scores.\n",
    "\n",
    "plt.hist(df['acceptance_rate'], bins=50)\n",
    "plt.title(\"College Selectivity Histogram\")\n",
    "plt.xlabel('Acceptance Rate')\n",
    "plt.ylabel('Frequency')\n",
    "plt.show()\n",
    "# This data is clearly skewed left, which indicates that most colleges are not selective.\n",
    "\n",
    "plt.hist(df['percent_earning_more_than_a_high_school_grad'], bins=50)\n",
    "plt.title(\"Earnings Benefit Histogram\")\n",
    "plt.xlabel('Percent of Graduates Earning More than a Typical High School Grad')\n",
    "plt.ylabel('Frequency')\n",
    "plt.show()\n",
    "# This data is clearly skewed left, which indicates that most colleges tend to produce\n",
    "# graduates that earn more than a high-school graduate would.\n",
    "# If college students earned the same amount as high-school graduates, we would expect\n",
    "# a normal distribution centered around 50%.\n",
    "\n",
    "# Let's repeat this process for all columns for which a histogram makes sense.\n",
    "relCols = ['Est_full_price_22_23', 'Est_price_with_avg_grant', 'percent_of_student_who_get_grants', 'graduation_rate', 'early_career_earnings', \n",
    "           'avg_price_for_low_income_students', 'undergrad_enrollment', 'percent_of_students_with_need_who_get_grants', 'percent_of_need_met', \n",
    "           'percent_of_students_who_get_merit_grants', 'avg_merit_grant', 'avg_time_to_a_degree_years', 'median_student_debt', \n",
    "           'percent_earning_more_than_a_high_school_grad', 'median_sat', 'median_act']\n",
    "\n",
    "for colName in relCols:\n",
    "  x = df[colName]\n",
    "  plt.hist(df[colName], bins=50)\n",
    "  plt.title((colDict[colName] + ' Histogram'))\n",
    "  plt.xlabel(colDict[colName])\n",
    "  plt.ylabel('Frequency')\n",
    "  plt.show()\n",
    "\n",
    "# Take some time to interpret a few of these graphs. Some of them are not perfect, since we are using 50 bins for every example. This is not ideal for every case.\n",
    "# Try to make new graphs for the ones that don't make sense because of the number of bins we are using."
   ]
  },
  {
   "cell_type": "code",
   "execution_count": null,
   "metadata": {
    "colab": {
     "base_uri": "https://localhost:8080/",
     "height": 1000
    },
    "id": "18WcKSO6nQ-7",
    "outputId": "2e190bf9-f673-4d20-fcce-10787d0ff042"
   },
   "outputs": [],
   "source": [
    "# We can repeat all of these with cumulative histograms\n",
    "for colName in relCols:\n",
    "  x = df[colName]\n",
    "  plt.hist(df[colName], bins=50, cumulative=True)\n",
    "  plt.title((colDict[colName] + ' Histogram'))\n",
    "  plt.xlabel(colDict[colName])\n",
    "  plt.ylabel('Frequency')\n",
    "  plt.show()\n",
    "\n",
    "# Try to see if there's anything that is easier to notice in a traditional vs. cumulative histogram. What kind of obvservations can you make from the below graph?"
   ]
  },
  {
   "cell_type": "markdown",
   "metadata": {
    "id": "G1l1iQylvO7u"
   },
   "source": [
    "### Pie Charts"
   ]
  },
  {
   "cell_type": "code",
   "execution_count": null,
   "metadata": {
    "colab": {
     "base_uri": "https://localhost:8080/",
     "height": 264
    },
    "id": "cb6DbFS5K6lq",
    "outputId": "31f59370-4a54-45f2-823d-11427d58cdc6"
   },
   "outputs": [],
   "source": [
    "# Pie charts\n",
    "\n",
    "n = df.sat_act_required.str.contains('No').sum()\n",
    "y = df.sat_act_required.str.contains('Yes').sum()\n",
    "\n",
    "data = [n, y]\n",
    "labels = ['No', 'Yes']\n",
    "\n",
    "# Declare exploding pie\n",
    "explode = [0, 0.1]\n",
    "\n",
    "# Define Seaborn color palette\n",
    "colors = sns.color_palette('pastel')[0:2]\n",
    "\n",
    "# Plot the data\n",
    "plt.pie(data, labels = labels, explode = explode, colors = colors, autopct='%.0f%%')\n",
    "plt.title('Percent of Schools that Require ACT/SAT')\n",
    "plt.show()"
   ]
  },
  {
   "cell_type": "markdown",
   "metadata": {
    "id": "hoECLlEwvSEJ"
   },
   "source": [
    "### Bar Charts"
   ]
  },
  {
   "cell_type": "code",
   "execution_count": null,
   "metadata": {
    "colab": {
     "base_uri": "https://localhost:8080/",
     "height": 281
    },
    "id": "q0L7Gsl1Kt-0",
    "outputId": "b5edccd9-efe3-4242-999c-4be0f4626a5c"
   },
   "outputs": [],
   "source": [
    "# Bar charts\n",
    "\n",
    "n = df.sat_act_required.str.contains('No').sum()\n",
    "y = df.sat_act_required.str.contains('Yes').sum()\n",
    "\n",
    "data = [n, y]\n",
    "labels = ['No', 'Yes']\n",
    "\n",
    "# Declare exploding pie\n",
    "explode = [0, 0.1]\n",
    "\n",
    "# Define Seaborn color palette\n",
    "colors = sns.color_palette('pastel')[0:2]\n",
    "\n",
    "# Plot the data\n",
    "plt.bar(labels, data)\n",
    "plt.title('Number of Colleges that Require ACT/SAT')\n",
    "plt.ylabel('Number of Colleges')\n",
    "plt.show()"
   ]
  },
  {
   "cell_type": "markdown",
   "metadata": {
    "id": "X3jxz5WHvVhE"
   },
   "source": [
    "### Stack Plots"
   ]
  },
  {
   "cell_type": "code",
   "execution_count": null,
   "metadata": {
    "colab": {
     "base_uri": "https://localhost:8080/",
     "height": 949
    },
    "id": "B27pfpJliv7z",
    "outputId": "51fe2c40-8781-4b5d-bed4-b1f7000acea1"
   },
   "outputs": [],
   "source": [
    "# Stacked plot application\n",
    "top10df = df.head(10)\n",
    "\n",
    "x = [ 1,  2,  3,  4,  5,  6,  7,  8,  9]\n",
    "arr1  = [23, 40, 28, 43,  8, 44, 43, 18, 17]\n",
    "arr2  = [17, 30, 22, 14, 17, 17, 29, 22, 30]\n",
    "arr3  = [15, 31, 18, 22, 18, 19, 13, 32, 39]\n",
    "\n",
    "# Adding legend for stack plots is tricky.\n",
    "plt.plot([], [], color='orange', label = 'Average Cost After Grants')\n",
    "plt.plot([], [], color='b', label = 'Average Grant Amount')\n",
    "\n",
    "plt.stackplot(top10df['college_names'], top10df['Est_price_with_avg_grant'], top10df['Est_full_price_22_23'] - top10df['Est_price_with_avg_grant'], colors= ['orange', 'b'])\n",
    "plt.title('Stack Plot')\n",
    "plt.ylabel('Estimated Full Price of Attendance')\n",
    "plt.legend()\n",
    "plt.xticks(rotation='vertical')\n",
    "plt.show()\n",
    "\n",
    "# A stacked bar plot looks better in my opinion\n",
    "plt.bar(top10df['college_names'], top10df['Est_price_with_avg_grant'], color='orange', label = 'Average Cost After Grants')\n",
    "plt.bar(top10df['college_names'], top10df['Est_full_price_22_23'] - top10df['Est_price_with_avg_grant'], color='b', label = 'Average Grant Amount', bottom=top10df['Est_price_with_avg_grant'])\n",
    "plt.title('Stacked Bar Plot')\n",
    "plt.ylabel('Estimated Full Price of Attendance')\n",
    "plt.legend()\n",
    "plt.xticks(rotation='vertical')\n",
    "plt.show()"
   ]
  },
  {
   "cell_type": "markdown",
   "metadata": {
    "id": "Dbf_ilNbvimn"
   },
   "source": [
    "## Part 3: Explore on Your Own (~15 minutes)\n",
    "\n",
    "Spend the rest of class manipulating the data and trying to find anything interesting.\n",
    "\n",
    "Alternatively, we can take suggestions from the class and try to implement them together."
   ]
  },
  {
   "cell_type": "code",
   "execution_count": null,
   "metadata": {
    "colab": {
     "base_uri": "https://localhost:8080/",
     "height": 360
    },
    "id": "XO-560x2pM59",
    "outputId": "5b0fad8f-4165-48fa-d964-e6e446a5c982"
   },
   "outputs": [],
   "source": [
    "# A simple example.... college selectivity by state.\n",
    "states = df.State.value_counts()\n",
    "states = df.groupby('State').mean()['acceptance_rate'].sort_values(ascending=True)\n",
    "\n",
    "plt.figure(figsize=(15,5))\n",
    "states.plot(kind='bar')\n",
    "plt.title('Average College Acceptance Rate by State')\n",
    "plt.ylabel('Acceptance Rates (Percent)')\n",
    "plt.show()"
   ]
  }
 ],
 "metadata": {
  "colab": {
   "provenance": [],
   "toc_visible": true
  },
  "kernelspec": {
   "display_name": "Python 3",
   "language": "python",
   "name": "python3"
  },
  "language_info": {
   "codemirror_mode": {
    "name": "ipython",
    "version": 3
   },
   "file_extension": ".py",
   "mimetype": "text/x-python",
   "name": "python",
   "nbconvert_exporter": "python",
   "pygments_lexer": "ipython3",
   "version": "3.8.2"
  }
 },
 "nbformat": 4,
 "nbformat_minor": 4
}
